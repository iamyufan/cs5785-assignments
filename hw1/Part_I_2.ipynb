{
 "cells": [
  {
   "cell_type": "code",
   "execution_count": 1,
   "metadata": {},
   "outputs": [
    {
     "name": "stdout",
     "output_type": "stream",
     "text": [
      "numerical_features:  21\n",
      "categorical_cols:  19\n",
      "total:  40\n"
     ]
    }
   ],
   "source": [
    "numerical_features = [\n",
    "    \"LotFrontage\",\n",
    "    \"LotArea\",\n",
    "    \"OverallQual\",\n",
    "    \"OverallCond\",\n",
    "    \"YearBuilt\",\n",
    "    \"YearRemodAdd\",\n",
    "    \"MasVnrArea\",\n",
    "    \"TotalBsmtSF\",\n",
    "    \"GrLivArea\",\n",
    "    \"BsmtFullBath\",\n",
    "    \"BsmtHalfBath\",\n",
    "    \"FullBath\",\n",
    "    \"HalfBath\",\n",
    "    \"BedroomAbvGr\",\n",
    "    \"KitchenAbvGr\",\n",
    "    \"TotRmsAbvGrd\",\n",
    "    \"Fireplaces\",\n",
    "    \"GarageArea\",\n",
    "    \"PoolArea\",\n",
    "    \"YrSold\",\n",
    "    \"SalePrice\"\n",
    "]\n",
    "\n",
    "categorical_cols = [\n",
    "    \"MSZoning\",\n",
    "    \"Utilities\",\n",
    "    \"LandSlope\",\n",
    "    \"Neighborhood\",\n",
    "    \"BldgType\",\n",
    "    \"HouseStyle\",\n",
    "    \"ExterQual\",   # -> numerical\n",
    "    \"ExterCond\",   # -> numerical\n",
    "    \"BsmtQual\",    # -> numerical\n",
    "    \"BsmtCond\",    # -> numerical\n",
    "    \"HeatingQC\",   # -> numerical\n",
    "    \"CentralAir\",  # -> 0, 1\n",
    "    \"KitchenQual\", \n",
    "    \"FireplaceQu\",\n",
    "    \"GarageQual\",\n",
    "    \"GarageCond\",\n",
    "    \"PoolQC\",\n",
    "    \"MiscFeature\",\n",
    "    \"SaleType\",\n",
    "]\n",
    "\n",
    "print(\"numerical_features: \", len(numerical_features))\n",
    "print(\"categorical_cols: \", len(categorical_cols))\n",
    "print(\"total: \", len(numerical_features) + len(categorical_cols))"
   ]
  },
  {
   "cell_type": "code",
   "execution_count": null,
   "metadata": {},
   "outputs": [],
   "source": []
  }
 ],
 "metadata": {
  "kernelspec": {
   "display_name": ".venv",
   "language": "python",
   "name": "python3"
  },
  "language_info": {
   "codemirror_mode": {
    "name": "ipython",
    "version": 3
   },
   "file_extension": ".py",
   "mimetype": "text/x-python",
   "name": "python",
   "nbconvert_exporter": "python",
   "pygments_lexer": "ipython3",
   "version": "3.9.6"
  },
  "orig_nbformat": 4
 },
 "nbformat": 4,
 "nbformat_minor": 2
}
